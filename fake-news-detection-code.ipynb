{
 "cells": [
  {
   "cell_type": "code",
   "execution_count": null,
   "id": "60f69a2a-e628-4a31-91d3-3cc108eb6b6a",
   "metadata": {},
   "outputs": [],
   "source": [
    "#adding fake news data\n",
    "import pandas as pd\n",
    "fake=pd.read_csv(r\"C:\\Users\\Zunnurain.Badar\\Fake.csv\")\n",
    "print(fake.head())\n"
   ]
  },
  {
   "cell_type": "code",
   "execution_count": null,
   "id": "0b973159-500b-495d-9b0b-cd21ff078d51",
   "metadata": {},
   "outputs": [],
   "source": [
    "#adding real news data\n",
    "true=pd.read_csv(r\"C:\\Users\\Zunnurain.Badar\\True.csv\")\n",
    "print(true.head())"
   ]
  },
  {
   "cell_type": "code",
   "execution_count": null,
   "id": "53c967f2-6160-4a56-8697-aa8db7fbd760",
   "metadata": {},
   "outputs": [],
   "source": [
    "print(true.columns)"
   ]
  },
  {
   "cell_type": "code",
   "execution_count": null,
   "id": "e9231727-8e6b-4577-a30c-e13f1146cdd5",
   "metadata": {},
   "outputs": [],
   "source": [
    "#assigning labels and merging both datasets\n",
    "fake[\"Label\"] =0\n",
    "true[\"Label\"] =1\n",
    "ds = pd.concat([fake,true],axis=0)\n",
    "ds=ds.reset_index(drop=True)\n",
    "print(ds.shape)"
   ]
  },
  {
   "cell_type": "code",
   "execution_count": null,
   "id": "db16e065-968b-4969-af83-3614b4e40c83",
   "metadata": {},
   "outputs": [],
   "source": [
    " ds=ds[[ 'text','Label']]"
   ]
  },
  {
   "cell_type": "code",
   "execution_count": null,
   "id": "fef35095-2256-41f5-a3c9-d013bbf50a9c",
   "metadata": {},
   "outputs": [],
   "source": [
    "print(ds.head())"
   ]
  },
  {
   "cell_type": "code",
   "execution_count": null,
   "id": "177be3d8-8ce4-494c-9657-9ddb60ccc0a8",
   "metadata": {},
   "outputs": [],
   "source": [
    "#downloading stopwords\n",
    "import nltk\n",
    "from nltk.corpus import stopwords\n",
    "nltk.download(\"stopwords\") "
   ]
  },
  {
   "cell_type": "code",
   "execution_count": null,
   "id": "fd24f37e-096e-4a4a-9a73-a3e3e79007a2",
   "metadata": {},
   "outputs": [],
   "source": [
    "stop_words = stopwords.words(\"english\")\n",
    "print(stop_words)"
   ]
  },
  {
   "cell_type": "code",
   "execution_count": null,
   "id": "4a65d176-3e5e-4f08-9c95-abfd20df9dec",
   "metadata": {},
   "outputs": [],
   "source": [
    "print(ds[\"text\"][0])"
   ]
  },
  {
   "cell_type": "code",
   "execution_count": null,
   "id": "e34c2444-ee55-4c21-9192-740a6b7f45ab",
   "metadata": {},
   "outputs": [],
   "source": [
    "import nltk\n",
    "nltk.download(\"punkt_tab\")\n"
   ]
  },
  {
   "cell_type": "code",
   "execution_count": null,
   "id": "110fb96a-cd76-4693-95e6-882cba3bf235",
   "metadata": {},
   "outputs": [],
   "source": [
    "#tokenizing the datasets\n",
    "from nltk.tokenize import word_tokenize\n",
    "sample_text = ds[\"text\"][0]\n",
    "tokens = word_tokenize(sample_text)\n",
    "print(tokens)\n",
    " "
   ]
  },
  {
   "cell_type": "code",
   "execution_count": null,
   "id": "c6cc8052-d318-4fad-abb9-031125354f1f",
   "metadata": {},
   "outputs": [],
   "source": [
    "#removing stopwords\n",
    "filtered_tokens = [word for word in tokens if word.lower() not in stop_words]\n",
    "print(filtered_tokens)"
   ]
  },
  {
   "cell_type": "code",
   "execution_count": null,
   "id": "90f90ae1-fe84-4246-b758-94fc8fa63091",
   "metadata": {},
   "outputs": [],
   "source": [
    "cleaned_text= \" \".join(filtered_tokens)\n",
    "print(cleaned_text)"
   ]
  },
  {
   "cell_type": "code",
   "execution_count": null,
   "id": "71235df8-26d0-4a2c-8be5-025489415a0d",
   "metadata": {},
   "outputs": [],
   "source": [
    "#doing lemmatization\n",
    "from nltk.stem import WordNetLemmatizer\n",
    "nltk.download(\"wordnet\")\n",
    "lemmatizer = WordNetLemmatizer()\n",
    "lemmatized_tokens = [lemmatizer.lemmatize(word,pos=\"v\") for word in filtered_tokens]\n",
    " "
   ]
  },
  {
   "cell_type": "code",
   "execution_count": null,
   "id": "a97c25e6-eea7-4b2c-a6b2-b7e41b58cd39",
   "metadata": {},
   "outputs": [],
   "source": [
    "print(lemmatized_tokens)"
   ]
  },
  {
   "cell_type": "code",
   "execution_count": null,
   "id": "baf67bcb-3972-421e-a78b-66444f2de837",
   "metadata": {},
   "outputs": [],
   "source": [
    "#converting text into numbers for ml model\n",
    "from sklearn.feature_extraction.text import TfidfVectorizer\n",
    "cleaned_articles = ds[\"text\"].tolist()\n",
    "tfidf = TfidfVectorizer(max_features=5000)  \n",
    "tfidf_matrix = tfidf.fit_transform(cleaned_articles)\n",
    "print(\"TF-IDF Shape:\", tfidf_matrix.shape) "
   ]
  },
  {
   "cell_type": "code",
   "execution_count": null,
   "id": "6ee3728e-1525-4730-9e9b-18435da1e19e",
   "metadata": {},
   "outputs": [],
   "source": [
    "#splitting the training and testing data\n",
    "from sklearn.model_selection import train_test_split\n",
    "X_train, X_test, y_train, y_test = train_test_split(\n",
    "    tfidf_matrix, ds[\"Label\"], test_size=0.2, random_state=42\n",
    ")\n",
    "print(\"Training Set Size:\", X_train.shape)\n",
    "print(\"Testing Set Size:\", X_test.shape)\n"
   ]
  },
  {
   "cell_type": "code",
   "execution_count": null,
   "id": "e8b0e7eb-6511-4f1b-a3af-708b5cdcaee2",
   "metadata": {},
   "outputs": [],
   "source": [
    "#training model on datasets\n",
    "from sklearn.naive_bayes import MultinomialNB\n",
    "from sklearn.metrics import accuracy_score, classification_report\n",
    "model = MultinomialNB()\n",
    "model.fit(X_train, y_train)\n",
    "y_pred = model.predict(X_test)\n",
    "accuracy = accuracy_score(y_test, y_pred)\n",
    "print(f\"Model Accuracy: {accuracy:.4f}\")\n",
    "print(\"\\nClassification Report:\\n\", classification_report(y_test, y_pred))\n"
   ]
  },
  {
   "cell_type": "code",
   "execution_count": null,
   "id": "c0e693c6-5f65-49ed-abae-14b79b82d14c",
   "metadata": {},
   "outputs": [],
   "source": [
    "#saving the files\n",
    "import joblib\n",
    "joblib.dump(model, \"model.pkl\")\n",
    "joblib.dump(tfidf, \"vectorizer.pkl\")\n",
    "print(\"Model & Vectorizer Saved Successfully!\")\n"
   ]
  },
  {
   "cell_type": "code",
   "execution_count": null,
   "id": "5db6a132-e8b6-4ccf-9a80-51dbe204047e",
   "metadata": {},
   "outputs": [],
   "source": [
    "!pip install flask\n"
   ]
  },
  {
   "cell_type": "code",
   "execution_count": null,
   "id": "68014c58-0285-4554-b02c-8abe62d7fdcc",
   "metadata": {},
   "outputs": [],
   "source": [
    "pip install flask joblib\n"
   ]
  },
  {
   "cell_type": "code",
   "execution_count": null,
   "id": "97fec238-6271-4e1b-85dd-076045513cbd",
   "metadata": {},
   "outputs": [],
   "source": [
    "from flask import Flask, request, jsonify, render_template_string\n",
    "import joblib\n",
    "\n",
    "app = Flask(__name__)\n",
    "\n",
    "# Load model and vectorizer\n",
    "model = joblib.load(\"model.pkl\")\n",
    "vectorizer = joblib.load(\"vectorizer.pkl\")\n",
    "\n",
    "# Fully Responsive HTML Template\n",
    "HTML_TEMPLATE = \"\"\"\n",
    "<!DOCTYPE html>\n",
    "<html lang=\"en\">\n",
    "<head>\n",
    "    <meta charset=\"UTF-8\">\n",
    "    <meta name=\"viewport\" content=\"width=device-width, initial-scale=1.0\">\n",
    "    <title>Fake News Detector</title>\n",
    "    <style>\n",
    "        * {\n",
    "            box-sizing: border-box;\n",
    "            margin: 0;\n",
    "            padding: 0;\n",
    "        }\n",
    "        body {\n",
    "            font-family: Arial, sans-serif;\n",
    "            text-align: center;\n",
    "            background-color: #f4f4f4;\n",
    "            display: flex;\n",
    "            justify-content: center;\n",
    "            align-items: center;\n",
    "            min-height: 100vh;\n",
    "            padding: 10px;\n",
    "        }\n",
    "        .container {\n",
    "            width: 100%;\n",
    "            max-width: 400px;\n",
    "            padding: 20px;\n",
    "            background: white;\n",
    "            box-shadow: 0 0 10px rgba(0, 0, 0, 0.1);\n",
    "            border-radius: 10px;\n",
    "        }\n",
    "        h2 {\n",
    "            font-size: 22px;\n",
    "            margin-bottom: 10px;\n",
    "        }\n",
    "        textarea {\n",
    "            width: 100%;\n",
    "            height: 100px;\n",
    "            margin: 10px 0;\n",
    "            padding: 10px;\n",
    "            font-size: 16px;\n",
    "            border: 1px solid #ccc;\n",
    "            border-radius: 5px;\n",
    "            resize: none;\n",
    "        }\n",
    "        button {\n",
    "            width: 100%;\n",
    "            background: #007bff;\n",
    "            color: white;\n",
    "            padding: 12px;\n",
    "            border: none;\n",
    "            cursor: pointer;\n",
    "            font-size: 16px;\n",
    "            border-radius: 5px;\n",
    "        }\n",
    "        button:hover {\n",
    "            background: #0056b3;\n",
    "        }\n",
    "        #result {\n",
    "            font-size: 18px;\n",
    "            margin-top: 10px;\n",
    "            font-weight: bold;\n",
    "            min-height: 30px;\n",
    "        }\n",
    "    </style>\n",
    "</head>\n",
    "<body>\n",
    "    <div class=\"container\">\n",
    "        <h2>Fake News Detector</h2>\n",
    "        <textarea id=\"newsInput\" placeholder=\"Enter news text...\"></textarea>\n",
    "        <button id=\"checkNewsBtn\">Check News</button>\n",
    "        <p id=\"result\"></p>\n",
    "    </div>\n",
    "\n",
    "    <script>\n",
    "        document.getElementById(\"checkNewsBtn\").addEventListener(\"click\", function () {\n",
    "            let text = document.getElementById(\"newsInput\").value.trim();\n",
    "            let resultElement = document.getElementById(\"result\");\n",
    "\n",
    "            if (!text) {\n",
    "                resultElement.innerText = \"⚠️ Please enter some text!\";\n",
    "                resultElement.style.color = \"red\";\n",
    "                return;\n",
    "            }\n",
    "\n",
    "            resultElement.innerText = \"Checking...\";\n",
    "            resultElement.style.color = \"black\"; \n",
    "\n",
    "            fetch(\"/predict\", {\n",
    "                method: \"POST\",\n",
    "                headers: { \"Content-Type\": \"application/json\" },\n",
    "                body: JSON.stringify({ text: text })\n",
    "            })\n",
    "            .then(response => response.json())\n",
    "            .then(data => {\n",
    "                let resultText = data.prediction === 1 ? \"📰 Real News\" : \"⚠️ Fake News\";\n",
    "                resultElement.innerText = resultText;\n",
    "                resultElement.style.color = data.prediction === 1 ? \"green\" : \"red\";\n",
    "            })\n",
    "            .catch(error => {\n",
    "                resultElement.innerText = \"❌ Error occurred\";\n",
    "                resultElement.style.color = \"red\";\n",
    "            });\n",
    "\n",
    "            document.getElementById(\"newsInput\").value = \"\";\n",
    "        });\n",
    "    </script>\n",
    "</body>\n",
    "</html>\n",
    "\"\"\"\n",
    "\n",
    "@app.route('/')\n",
    "def home():\n",
    "    return render_template_string(HTML_TEMPLATE)\n",
    "\n",
    "@app.route('/predict', methods=['POST'])\n",
    "def predict():\n",
    "    data = request.json\n",
    "    text = data.get(\"text\", \"\").strip()\n",
    "\n",
    "    if not text:\n",
    "        return jsonify({\"error\": \"No text provided!\"}), 400\n",
    "\n",
    "    text_vectorized = vectorizer.transform([text])\n",
    "    prediction = model.predict(text_vectorized)[0]                    \n",
    "    return jsonify({\"prediction\": int(prediction)})\n",
    "\n",
    "if __name__ == \"__main__\":\n",
    "    app.run(host='0.0.0.0', port=7860)\n"
   ]
  },
  {
   "cell_type": "code",
   "execution_count": null,
   "id": "bf77d561-1708-4d8f-89fc-ab5d03bf5474",
   "metadata": {},
   "outputs": [],
   "source": []
  },
  {
   "cell_type": "code",
   "execution_count": null,
   "id": "767cfbbc-57a0-4aa4-b2ae-3559cc9be4b3",
   "metadata": {},
   "outputs": [],
   "source": []
  }
 ],
 "metadata": {
  "kernelspec": {
   "display_name": "Python 3 (ipykernel)",
   "language": "python",
   "name": "python3"
  },
  "language_info": {
   "codemirror_mode": {
    "name": "ipython",
    "version": 3
   },
   "file_extension": ".py",
   "mimetype": "text/x-python",
   "name": "python",
   "nbconvert_exporter": "python",
   "pygments_lexer": "ipython3",
   "version": "3.12.7"
  }
 },
 "nbformat": 4,
 "nbformat_minor": 5
}
