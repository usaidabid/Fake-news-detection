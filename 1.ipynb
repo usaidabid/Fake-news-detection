{
 "cells": [
  {
   "cell_type": "code",
   "execution_count": null,
   "id": "60f69a2a-e628-4a31-91d3-3cc108eb6b6a",
   "metadata": {},
   "outputs": [],
   "source": [
    "#adding fake news data\n",
    "import pandas as pd\n",
    "fake=pd.read_csv(r\"C:\\Users\\Zunnurain.Badar\\Fake.csv\")\n",
    "print(fake.head())\n"
   ]
  },
  {
   "cell_type": "code",
   "execution_count": null,
   "id": "0b973159-500b-495d-9b0b-cd21ff078d51",
   "metadata": {},
   "outputs": [],
   "source": [
    "#adding real news data\n",
    "true=pd.read_csv(r\"C:\\Users\\Zunnurain.Badar\\True.csv\")\n",
    "print(true.head())"
   ]
  },
  {
   "cell_type": "code",
   "execution_count": null,
   "id": "53c967f2-6160-4a56-8697-aa8db7fbd760",
   "metadata": {},
   "outputs": [],
   "source": [
    "print(true.columns)"
   ]
  },
  {
   "cell_type": "code",
   "execution_count": null,
   "id": "e9231727-8e6b-4577-a30c-e13f1146cdd5",
   "metadata": {},
   "outputs": [],
   "source": [
    "#assigning labels and merging both datasets\n",
    "fake[\"Label\"] =0\n",
    "true[\"Label\"] =1\n",
    "ds = pd.concat([fake,true],axis=0)\n",
    "ds=ds.reset_index(drop=True)\n",
    "print(ds.shape)"
   ]
  },
  {
   "cell_type": "code",
   "execution_count": null,
   "id": "db16e065-968b-4969-af83-3614b4e40c83",
   "metadata": {},
   "outputs": [],
   "source": [
    " ds=ds[[ 'text','Label']]"
   ]
  },
  {
   "cell_type": "code",
   "execution_count": null,
   "id": "fef35095-2256-41f5-a3c9-d013bbf50a9c",
   "metadata": {},
   "outputs": [],
   "source": [
    "print(ds.head())"
   ]
  },
  {
   "cell_type": "code",
   "execution_count": null,
   "id": "177be3d8-8ce4-494c-9657-9ddb60ccc0a8",
   "metadata": {},
   "outputs": [],
   "source": [
    "#downloading stopwords\n",
    "import nltk\n",
    "from nltk.corpus import stopwords\n",
    "nltk.download(\"stopwords\") "
   ]
  },
  {
   "cell_type": "code",
   "execution_count": null,
   "id": "fd24f37e-096e-4a4a-9a73-a3e3e79007a2",
   "metadata": {},
   "outputs": [],
   "source": [
    "stop_words = stopwords.words(\"english\")\n",
    "print(stop_words)"
   ]
  },
  {
   "cell_type": "code",
   "execution_count": null,
   "id": "4a65d176-3e5e-4f08-9c95-abfd20df9dec",
   "metadata": {},
   "outputs": [],
   "source": [
    "print(ds[\"text\"][0])"
   ]
  },
  {
   "cell_type": "code",
   "execution_count": null,
   "id": "e34c2444-ee55-4c21-9192-740a6b7f45ab",
   "metadata": {},
   "outputs": [],
   "source": [
    "import nltk\n",
    "nltk.download(\"punkt_tab\")\n"
   ]
  },
  {
   "cell_type": "code",
   "execution_count": null,
   "id": "110fb96a-cd76-4693-95e6-882cba3bf235",
   "metadata": {},
   "outputs": [],
   "source": [
    "#tokenizing the datasets\n",
    "from nltk.tokenize import word_tokenize\n",
    "sample_text = ds[\"text\"][0]\n",
    "tokens = word_tokenize(sample_text)\n",
    "print(tokens)\n",
    " "
   ]
  },
  {
   "cell_type": "code",
   "execution_count": null,
   "id": "c6cc8052-d318-4fad-abb9-031125354f1f",
   "metadata": {},
   "outputs": [],
   "source": [
    "#removing stopwords\n",
    "filtered_tokens = [word for word in tokens if word.lower() not in stop_words]\n",
    "print(filtered_tokens)"
   ]
  },
  {
   "cell_type": "code",
   "execution_count": null,
   "id": "90f90ae1-fe84-4246-b758-94fc8fa63091",
   "metadata": {},
   "outputs": [],
   "source": [
    "cleaned_text= \" \".join(filtered_tokens)\n",
    "print(cleaned_text)"
   ]
  },
  {
   "cell_type": "code",
   "execution_count": null,
   "id": "71235df8-26d0-4a2c-8be5-025489415a0d",
   "metadata": {},
   "outputs": [],
   "source": [
    "#doing lemmatization\n",
    "from nltk.stem import WordNetLemmatizer\n",
    "nltk.download(\"wordnet\")\n",
    "lemmatizer = WordNetLemmatizer()\n",
    "lemmatized_tokens = [lemmatizer.lemmatize(word,pos=\"v\") for word in filtered_tokens]\n",
    " "
   ]
  },
  {
   "cell_type": "code",
   "execution_count": null,
   "id": "a97c25e6-eea7-4b2c-a6b2-b7e41b58cd39",
   "metadata": {},
   "outputs": [],
   "source": [
    "print(lemmatized_tokens)"
   ]
  },
  {
   "cell_type": "code",
   "execution_count": null,
   "id": "baf67bcb-3972-421e-a78b-66444f2de837",
   "metadata": {},
   "outputs": [],
   "source": [
    "#converting text into numbers for ml model\n",
    "from sklearn.feature_extraction.text import TfidfVectorizer\n",
    "cleaned_articles = ds[\"text\"].tolist()\n",
    "tfidf = TfidfVectorizer(max_features=5000)  \n",
    "tfidf_matrix = tfidf.fit_transform(cleaned_articles)\n",
    "print(\"TF-IDF Shape:\", tfidf_matrix.shape) "
   ]
  },
  {
   "cell_type": "code",
   "execution_count": null,
   "id": "6ee3728e-1525-4730-9e9b-18435da1e19e",
   "metadata": {},
   "outputs": [],
   "source": [
    "#splitting the training and testing data\n",
    "from sklearn.model_selection import train_test_split\n",
    "X_train, X_test, y_train, y_test = train_test_split(\n",
    "    tfidf_matrix, ds[\"Label\"], test_size=0.2, random_state=42\n",
    ")\n",
    "print(\"Training Set Size:\", X_train.shape)\n",
    "print(\"Testing Set Size:\", X_test.shape)\n"
   ]
  },
  {
   "cell_type": "code",
   "execution_count": null,
   "id": "e8b0e7eb-6511-4f1b-a3af-708b5cdcaee2",
   "metadata": {},
   "outputs": [],
   "source": [
    "#training model on datasets\n",
    "from sklearn.naive_bayes import MultinomialNB\n",
    "from sklearn.metrics import accuracy_score, classification_report\n",
    "model = MultinomialNB()\n",
    "model.fit(X_train, y_train)\n",
    "y_pred = model.predict(X_test)\n",
    "accuracy = accuracy_score(y_test, y_pred)\n",
    "print(f\"Model Accuracy: {accuracy:.4f}\")\n",
    "print(\"\\nClassification Report:\\n\", classification_report(y_test, y_pred))\n"
   ]
  },
  {
   "cell_type": "code",
   "execution_count": null,
   "id": "c0e693c6-5f65-49ed-abae-14b79b82d14c",
   "metadata": {},
   "outputs": [],
   "source": [
    "#saving the files\n",
    "import joblib\n",
    "joblib.dump(model, \"model.pkl\")\n",
    "joblib.dump(tfidf, \"vectorizer.pkl\")\n",
    "print(\"Model & Vectorizer Saved Successfully!\")\n"
   ]
  },
  {
   "cell_type": "code",
   "execution_count": null,
   "id": "5db6a132-e8b6-4ccf-9a80-51dbe204047e",
   "metadata": {},
   "outputs": [],
   "source": [
    "!pip install flask\n"
   ]
  },
  {
   "cell_type": "code",
   "execution_count": null,
   "id": "68014c58-0285-4554-b02c-8abe62d7fdcc",
   "metadata": {},
   "outputs": [],
   "source": [
    "pip install flask joblib\n"
   ]
  },
  {
   "cell_type": "code",
   "execution_count": null,
   "id": "40575d01-2c6f-4169-9030-94a0bb31dfbb",
   "metadata": {},
   "outputs": [],
   "source": [
    "#flask for web page\n",
    "from flask import Flask, request, jsonify, render_template_string\n",
    "import joblib\n",
    "from werkzeug.serving import run_simple\n",
    "import threading\n",
    "app = Flask(__name__)\n",
    "model = joblib.load(\"model.pkl\")\n",
    "vectorizer = joblib.load(\"vectorizer.pkl\")\n",
    "HTML_TEMPLATE = \"\"\"\n",
    "<!DOCTYPE html>\n",
    "<html lang=\"en\">\n",
    "<head>\n",
    "    <meta charset=\"UTF-8\">\n",
    "    <meta name=\"viewport\" content=\"width=device-width, initial-scale=1.0\">\n",
    "    <title>Fake News Detection</title>\n",
    "    <style>\n",
    "        body {\n",
    "            font-family: Arial, sans-serif;\n",
    "            text-align: center;\n",
    "            margin: 50px;\n",
    "            background-color: #f4f4f4;\n",
    "        }\n",
    "        .container {\n",
    "            width: 50%;\n",
    "            margin: auto;\n",
    "            padding: 20px;\n",
    "            background: white;\n",
    "            box-shadow: 0 0 10px rgba(0, 0, 0, 0.1);\n",
    "            border-radius: 10px;\n",
    "        }\n",
    "        textarea {\n",
    "            width: 80%;\n",
    "            height: 100px;\n",
    "            margin: 10px 0;\n",
    "            padding: 10px;\n",
    "        }\n",
    "        button {\n",
    "            background: darkgreen;\n",
    "            color: white;\n",
    "            padding: 10px 20px;\n",
    "            border: none;\n",
    "            cursor: pointer;\n",
    "        }\n",
    "        button:hover {\n",
    "            background: darkgreen;\n",
    "        }\n",
    "        #result {\n",
    "            font-size: 18px;\n",
    "            margin-top: 10px;\n",
    "        }\n",
    "    </style>\n",
    "</head>\n",
    "<body>\n",
    "    <div class=\"container\">\n",
    "        <h2>Fake News Detection</h2>\n",
    "        <textarea id=\"newsInput\" placeholder=\"Enter your news text here...\"></textarea>\n",
    "        <button id=\"checkNewsBtn\">Check News</button>\n",
    "        <p id=\"result\"></p>\n",
    "    </div>\n",
    "\n",
    "      <script>\n",
    "    document.getElementById(\"checkNewsBtn\").addEventListener(\"click\", function () {\n",
    "        let text = document.getElementById(\"newsInput\").value;\n",
    "        let resultElement = document.getElementById(\"result\");\n",
    "\n",
    "    \n",
    "        resultElement.innerText = \"Checking...\";\n",
    "        resultElement.style.color = \"black\"; \n",
    "\n",
    "        fetch(\"/predict\", {\n",
    "            method: \"POST\",\n",
    "            headers: {\n",
    "                \"Content-Type\": \"application/json\"\n",
    "            },\n",
    "            body: JSON.stringify({ text: text })\n",
    "        })\n",
    "        .then(response => response.json())\n",
    "        .then(data => {\n",
    "            setTimeout(() => {\n",
    "                let resultText = data.prediction === 1 ? \"📰 Real News\" : \"⚠️ Fake News\";\n",
    "                resultElement.innerText = resultText;\n",
    "                resultElement.style.color = data.prediction === 1 ? \"green\" : \"red\";\n",
    "\n",
    "                \n",
    "                setTimeout(() => {\n",
    "                    resultElement.innerText = \"\";\n",
    "                }, 4000); // 4 seconds (4000 milliseconds)\n",
    "            }, 100); // Small delay for better UI\n",
    "        })\n",
    "        .catch(error => {\n",
    "            console.error(\"Error:\", error);\n",
    "            resultElement.innerText = \"❌ Error occurred\";\n",
    "            resultElement.style.color = \"red\";\n",
    "\n",
    "            \n",
    "            setTimeout(() => {\n",
    "                resultElement.innerText = \"\";\n",
    "            }, 5000);\n",
    "        });\n",
    "\n",
    "        document.getElementById(\"newsInput\").value = \"\"; \n",
    "    });\n",
    "</script>\n",
    "\n",
    "</body>\n",
    "</html>\n",
    "\"\"\"\n",
    "\n",
    "@app.route('/')\n",
    "def home():\n",
    "    return render_template_string(HTML_TEMPLATE)\n",
    "\n",
    "@app.route('/predict', methods=['POST'])\n",
    "def predict():\n",
    "    data = request.json\n",
    "    text = data.get(\"text\", \"\")\n",
    "\n",
    "    text_vectorized = vectorizer.transform([text])\n",
    "\n",
    "    #getting prediction from model\n",
    "    prediction = model.predict(text_vectorized)[0]                    \n",
    "    return jsonify({\"prediction\": int(prediction)})\n",
    "\n",
    "# function to run flask on jupyter notebook\n",
    "def run_flask():\n",
    "    run_simple('localhost', 5000, app, use_reloader=False)\n",
    "\n",
    "threading.Thread(target=run_flask, daemon=True).start()\n"
   ]
  },
  {
   "cell_type": "code",
   "execution_count": null,
   "id": "5d713ba7-e5db-426d-9787-3b0ead3d6df7",
   "metadata": {},
   "outputs": [],
   "source": []
  }
 ],
 "metadata": {
  "kernelspec": {
   "display_name": "Python 3 (ipykernel)",
   "language": "python",
   "name": "python3"
  },
  "language_info": {
   "codemirror_mode": {
    "name": "ipython",
    "version": 3
   },
   "file_extension": ".py",
   "mimetype": "text/x-python",
   "name": "python",
   "nbconvert_exporter": "python",
   "pygments_lexer": "ipython3",
   "version": "3.12.7"
  }
 },
 "nbformat": 4,
 "nbformat_minor": 5
}
